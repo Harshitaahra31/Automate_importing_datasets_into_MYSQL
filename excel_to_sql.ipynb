{
 "cells": [
  {
   "cell_type": "markdown",
   "id": "321b5d63",
   "metadata": {},
   "source": [
    "# Script for importing a large Excel file into MYSQL"
   ]
  },
  {
   "cell_type": "code",
   "execution_count": null,
   "id": "b38e7117",
   "metadata": {},
   "outputs": [],
   "source": [
    "#importing libraries \n",
    "import pandas as pd\n",
    "import mysql.connector\n",
    "import pymysql as sql\n",
    "from sqlalchemy import create_engine\n"
   ]
  },
  {
   "cell_type": "code",
   "execution_count": null,
   "id": "26869ec4",
   "metadata": {},
   "outputs": [],
   "source": [
    "user = 'root'\n",
    "password = #password\n",
    "host = #host_name\n",
    "port = 3306\n",
    "database = #database_name"
   ]
  },
  {
   "cell_type": "code",
   "execution_count": null,
   "id": "4893c056",
   "metadata": {},
   "outputs": [],
   "source": [
    "def get_connection():\n",
    "\treturn create_engine(\n",
    "\t\turl=\"mysql+pymysql://{0}:{1}@{2}:{3}/{4}\".format(\n",
    "\t\t\tuser, password, host, port, database\n",
    "\t\t)\n",
    "\t)"
   ]
  },
  {
   "cell_type": "code",
   "execution_count": null,
   "id": "9ba05a5e",
   "metadata": {},
   "outputs": [],
   "source": [
    "def import_excel_to_mysql(excel_file):\n",
    "    try:\n",
    "        # Establish database connection\n",
    "        conn = get_connection()\n",
    "        connection= conn.connect()\n",
    "        if connection is None:\n",
    "            print(\"not conected\")\n",
    "\n",
    "       \n",
    "        \n",
    "         # Read Excel_file\n",
    "        xls = pd.ExcelFile(excel_file)\n",
    "\n",
    "        # Iterate through each sheet in the excel file\n",
    "        for sheet_name in xls.sheet_names:\n",
    "            df = pd.read_excel(xls, sheet_name)\n",
    "\n",
    "            # Insert data into MySQL table\n",
    "            df.to_sql(sheet_name, con = connection, if_exists = 'append',index = False, chunksize = 1000)\n",
    "\n",
    "        print(\"Data imported successfully into MySQL database\")\n",
    "    except Error as e:\n",
    "        \n",
    "        print(\"Error while importing data to MySQL\", e)\n",
    "\n",
    "    finally:\n",
    "        # Close database connection\n",
    "        if connection is not None:\n",
    "            connection.close()\n",
    "            print(\"MySQL connection closed\")"
   ]
  },
  {
   "cell_type": "code",
   "execution_count": null,
   "id": "dee71da9",
   "metadata": {},
   "outputs": [],
   "source": [
    "# Path of excel_file\n",
    "excel_file_path = \"D:/harshita/flappy bird game/hotel_revenue_historical_full-2.xlsx\""
   ]
  },
  {
   "cell_type": "code",
   "execution_count": null,
   "id": "e92c7ac7",
   "metadata": {},
   "outputs": [],
   "source": [
    "# Call function to import excel data into MySQL\n",
    "import_excel_to_mysql(excel_file_path)"
   ]
  },
  {
   "cell_type": "code",
   "execution_count": null,
   "id": "ff154b45",
   "metadata": {},
   "outputs": [],
   "source": [
    "# creating only function which will do all tasks \n",
    "\n",
    "def excel_data_import(file_path,database_name):\n",
    "    \n",
    "    import pandas as pd\n",
    "    import mysql.connector\n",
    "    import pymysql \n",
    "    from sqlalchemy import create_engine\n",
    "    \n",
    "    \n",
    "    user = 'root'\n",
    "    password = #password\n",
    "    host = #host_name\n",
    "    port = 3306\n",
    "    database = database_name\n",
    "    \n",
    "    conn= create_engine(url=\"mysql+pymysql://{0}:{1}@{2}:{3}/{4}\".format(user, password, host, port, database))\n",
    "    \n",
    "                        \n",
    "    try:\n",
    "        # Establish database connection\n",
    "        connection= conn.connect()\n",
    "        if connection is None:\n",
    "            print(\"not conected\")\n",
    "                        \n",
    "        # Read Excel_file\n",
    "        xls = pd.ExcelFile(file_path)\n",
    "\n",
    "        # Iterate through each sheet in the excel file\n",
    "        for sheet_name in xls.sheet_names:\n",
    "            df = pd.read_excel(xls, sheet_name)\n",
    "\n",
    "            # Insert data into MySQL table\n",
    "            df.to_sql(sheet_name, con = connection, if_exists = 'append',index = False, chunksize = 1000)\n",
    "\n",
    "        print(\"Data imported successfully into MySQL database\")\n",
    "                        \n",
    "    except Error as e:\n",
    "        \n",
    "        print(\"Error while importing data to MySQL\", e)\n",
    "\n",
    "    finally:\n",
    "        # Close database connection\n",
    "        if connection is not None:\n",
    "            connection.close()\n",
    "            print(\"MySQL connection closed\")                    \n",
    "    "
   ]
  }
 ],
 "metadata": {
  "kernelspec": {
   "display_name": "Python 3 (ipykernel)",
   "language": "python",
   "name": "python3"
  },
  "language_info": {
   "codemirror_mode": {
    "name": "ipython",
    "version": 3
   },
   "file_extension": ".py",
   "mimetype": "text/x-python",
   "name": "python",
   "nbconvert_exporter": "python",
   "pygments_lexer": "ipython3",
   "version": "3.9.13"
  }
 },
 "nbformat": 4,
 "nbformat_minor": 5
}
