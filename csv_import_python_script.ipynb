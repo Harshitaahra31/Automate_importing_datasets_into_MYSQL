{
 "cells": [
  {
   "cell_type": "markdown",
   "id": "767d740b",
   "metadata": {},
   "source": [
    "# Script for importing CSV files into MYSQL"
   ]
  },
  {
   "cell_type": "code",
   "execution_count": null,
   "id": "472d3207",
   "metadata": {},
   "outputs": [],
   "source": [
    "# important libraries \n",
    "import pandas as pd\n",
    "from sqlalchemy import create_engine\n",
    "import pymysql  \n"
   ]
  },
  {
   "cell_type": "code",
   "execution_count": null,
   "id": "5bb33f86",
   "metadata": {},
   "outputs": [],
   "source": [
    "# important credentials\n",
    "user = #user_name\n",
    "password = #password\n",
    "host = #host_name\n",
    "port = 3306\n",
    "database = #database_name"
   ]
  },
  {
   "cell_type": "code",
   "execution_count": null,
   "id": "4bb4f9cd",
   "metadata": {},
   "outputs": [],
   "source": [
    "#function for creating engine\n",
    "def get_connection():\n",
    "    engine = create_engine(url = \"mysql+pymysql://{0}:{1}@{2}:{3}/{4}\".format(user,password,host,port,database))\n",
    "    return engine"
   ]
  },
  {
   "cell_type": "code",
   "execution_count": null,
   "id": "0a263724",
   "metadata": {},
   "outputs": [],
   "source": [
    "#function for importing csv_data \n",
    "def import_data(file,name):\n",
    "    try:\n",
    "        con = get_connection()\n",
    "        connection = con.connect()\n",
    "        if connection is None:\n",
    "            print(\"not connected\")\n",
    "\n",
    "        data = pd.read_csv(file)\n",
    "        data.to_sql(name,con = connection, if_exists = 'replace',index = False,chunksize = 10000)\n",
    "        print(\"data imported\")\n",
    "\n",
    "    except Error as e:\n",
    "        print(\"error aa rhi he \",e)\n",
    "\n",
    "    finally:\n",
    "        if connection is not None:\n",
    "            connection.close()\n",
    "            print('connection closed')"
   ]
  },
  {
   "cell_type": "code",
   "execution_count": null,
   "id": "c11efcbb",
   "metadata": {},
   "outputs": [],
   "source": [
    "# file path\n",
    "file_name =\"D:/practice sql/dataset/work.csv\""
   ]
  },
  {
   "cell_type": "code",
   "execution_count": null,
   "id": "1c36f61c",
   "metadata": {},
   "outputs": [],
   "source": [
    "#calling function\n",
    "import_data(file_name,'artist')"
   ]
  },
  {
   "cell_type": "code",
   "execution_count": null,
   "id": "ae5c7e36",
   "metadata": {},
   "outputs": [],
   "source": [
    "# final function to import data by running one script\n",
    "\n",
    "def import_csv(file_path,file_name,database_name):\n",
    "    \n",
    "    # importing important libraries \n",
    "    import pandas as pd\n",
    "    from mysql.connector import  Error\n",
    "    from sqlalchemy import create_engine\n",
    "    import pymysql \n",
    "    \n",
    "    # giving all credentials for connection stablish \n",
    "    user ='root'\n",
    "    password = #password\n",
    "    host = #host_name\n",
    "    port = 3306\n",
    "    database = database_name\n",
    "    \n",
    "    \n",
    "    # creating engine \n",
    "    engine = create_engine(url = \"mysql+pymysql://{0}:{1}@{2}:{3}/{4}\".format(user,password,host,port,database))\n",
    "    \n",
    "    \n",
    "    # main code\n",
    "    \n",
    "    try:\n",
    "        \n",
    "        connection = engine.connect()\n",
    "        if connection is None:\n",
    "            print(\"not connected\")\n",
    "\n",
    "        data = pd.read_csv(file_path)\n",
    "        data.to_sql(file_name,con = connection, if_exists = 'replace',index = False,chunksize = 10000)\n",
    "        print(\"data imported\")\n",
    "\n",
    "    except Error as e:\n",
    "        print(\"Error occured while importing \",e)\n",
    "\n",
    "    finally:\n",
    "        if connection is not None:\n",
    "            connection.close()\n",
    "            print('connection closed')\n",
    "    "
   ]
  },
  {
   "cell_type": "code",
   "execution_count": null,
   "id": "8d9aeebb",
   "metadata": {},
   "outputs": [],
   "source": [
    "# file details \n",
    "path=\"D:/practice sql/dataset/product_size.csv\"\n",
    "name='product'\n",
    "database='Database1'\n"
   ]
  },
  {
   "cell_type": "code",
   "execution_count": null,
   "id": "83c1f8ab",
   "metadata": {},
   "outputs": [],
   "source": [
    "#calling function\n",
    "\n",
    "import_csv(path,name,database)"
   ]
  },
  {
   "cell_type": "code",
   "execution_count": null,
   "id": "4d67f8ca",
   "metadata": {},
   "outputs": [],
   "source": [
    "# for multiple csv file \n",
    "files_path =['x.csv','y.csv','z.csv']\n",
    "file_name =['x','y','z']\n",
    "\n",
    "for path,name in zip(files_path,file_name):\n",
    "    import_csv(path,name,database)\n",
    "    \n",
    "    \n",
    "    \n",
    "    \n"
   ]
  }
 ],
 "metadata": {
  "kernelspec": {
   "display_name": "Python 3 (ipykernel)",
   "language": "python",
   "name": "python3"
  },
  "language_info": {
   "codemirror_mode": {
    "name": "ipython",
    "version": 3
   },
   "file_extension": ".py",
   "mimetype": "text/x-python",
   "name": "python",
   "nbconvert_exporter": "python",
   "pygments_lexer": "ipython3",
   "version": "3.9.13"
  }
 },
 "nbformat": 4,
 "nbformat_minor": 5
}
